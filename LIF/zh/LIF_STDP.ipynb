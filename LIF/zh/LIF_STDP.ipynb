{
 "cells": [
  {
   "cell_type": "code",
   "id": "initial_id",
   "metadata": {
    "collapsed": true,
    "ExecuteTime": {
     "end_time": "2024-12-01T15:12:28.494595Z",
     "start_time": "2024-12-01T15:12:27.953296Z"
    }
   },
   "source": [
    "import numpy as np\n",
    "import matplotlib.pyplot as plt"
   ],
   "outputs": [],
   "execution_count": 1
  },
  {
   "metadata": {
    "ExecuteTime": {
     "end_time": "2024-12-01T15:12:28.508536Z",
     "start_time": "2024-12-01T15:12:28.496667Z"
    }
   },
   "cell_type": "code",
   "source": [
    "np.random.seed(42) # 设置经典随机种子\n",
    "\n",
    "simulation_time = 1000  # 总模拟时间\n",
    "dt = 1.0  # 时间步长\n",
    "time_steps = int(simulation_time / dt) # 模拟参数\n",
    "\n",
    "tau_m = 10.0  # 膜时间常数\n",
    "V_rest = 0.0  # 初始膜电位\n",
    "V_reset = 0.0  # 重置电位\n",
    "V_th = 0.5  # 阈值\n",
    "\n",
    "A_plus = 0.051  # 突触增强幅度\n",
    "A_minus = 0.050  # 突触减弱幅度\n",
    "tau_plus = 20.0  # 突触增强时间常数\n",
    "tau_minus = 20.0  # 突触减弱时间常数\n",
    "w_max = 1.0  # 突触权重最大值\n",
    "w_min = 0.2  # 突触权重最小值\n",
    "\n",
    "num_inputs = 5 # 模拟神经元数量"
   ],
   "id": "2ad2af021d80963d",
   "outputs": [],
   "execution_count": 2
  },
  {
   "metadata": {
    "ExecuteTime": {
     "end_time": "2024-12-01T15:12:28.524826Z",
     "start_time": "2024-12-01T15:12:28.509568Z"
    }
   },
   "cell_type": "code",
   "source": [
    "def input_sequences():\n",
    "    sequence = np.zeros((time_steps, num_inputs))\n",
    "    spike_times = [0, 10, 20, 30, 40] # 输入脉冲的时间点\n",
    "    repeats = 20\n",
    "    interval = 50\n",
    "    # 创建一个二维全零数组表示所有输入神经元都未发放脉冲\n",
    "    # 随后定义一个固定的脉冲时间点 表示每个神经元强制输出脉冲的时间\n",
    "    # 该组脉冲时间点在这组训练中会被重复20次 每次开始的间隔为50ms\n",
    "\n",
    "    for r in range(repeats):\n",
    "        for idx, t in enumerate(spike_times):\n",
    "            time_idx = int((t + r * interval) / dt)\n",
    "            if time_idx < time_steps:\n",
    "                sequence[time_idx, idx] = 1\n",
    "        # 计算出每个脉冲应该被强制输出的时间 记录到sequence数组中\n",
    "\n",
    "    return sequence"
   ],
   "id": "8efc9ae85e44d657",
   "outputs": [],
   "execution_count": 3
  },
  {
   "metadata": {
    "ExecuteTime": {
     "end_time": "2024-12-01T15:12:28.540998Z",
     "start_time": "2024-12-01T15:12:28.527487Z"
    }
   },
   "cell_type": "code",
   "source": [
    "class LIFNeuron:\n",
    "    def __init__(self):\n",
    "        self.V = V_rest\n",
    "        self.spike = False\n",
    "\n",
    "    def update(self, I):\n",
    "        dV = (-self.V + I) / tau_m * dt\n",
    "        self.V += dV\n",
    "        if self.V >= V_th:\n",
    "            self.spike = True\n",
    "            self.V = V_reset\n",
    "        else:\n",
    "            self.spike = False\n",
    "        # 如果达到了阈值 则发送脉冲并重置膜电位"
   ],
   "id": "fdfef5976984355c",
   "outputs": [],
   "execution_count": 4
  },
  {
   "metadata": {
    "ExecuteTime": {
     "end_time": "2024-12-01T15:12:28.553594Z",
     "start_time": "2024-12-01T15:12:28.540998Z"
    }
   },
   "cell_type": "code",
   "source": [
    "class STDP:\n",
    "    def __init__(self, num_pre, num_post):\n",
    "        self.w = np.random.uniform(0.8, 1.0, (num_pre, num_post))  # 初始化权重\n",
    "        self.tau_pre = tau_plus\n",
    "        self.tau_post = tau_minus\n",
    "        self.A_plus = A_plus\n",
    "        self.A_minus = A_minus\n",
    "        self.x_pre = np.zeros(num_pre)\n",
    "        self.x_post = np.zeros(num_post)\n",
    "\n",
    "    def update_weights(self, pre_spikes, post_spikes):\n",
    "        self.x_pre *= np.exp(-dt / self.tau_pre)\n",
    "        self.x_post *= np.exp(-dt / self.tau_post)\n",
    "        # 对突触前神经元的时间踪迹和突触后神经元的时间踪迹进行指数衰减\n",
    "\n",
    "        self.x_pre += pre_spikes\n",
    "        self.x_post += post_spikes\n",
    "        # 将上一步的时间踪迹和当前步进行累加\n",
    "\n",
    "        dw = np.outer(self.A_plus * post_spikes, self.x_pre) - np.outer(self.x_post, self.A_minus * pre_spikes)\n",
    "        # 第一部分突触增强由突触前神经元的时间踪迹和突触后脉冲决定\n",
    "        # 第二部分突触减弱由突触后神经元的时间踪迹和突触前脉冲决定\n",
    "\n",
    "        self.w += dw.T\n",
    "        self.w = np.clip(self.w, w_min, w_max)\n",
    "        # 将权重变化转置后加到当前突触权重的矩阵上\n",
    "        # 并通过剪裁确保突触权重在设定的范围内"
   ],
   "id": "a06ae84b557ef2d1",
   "outputs": [],
   "execution_count": 5
  },
  {
   "metadata": {
    "ExecuteTime": {
     "end_time": "2024-12-01T15:12:28.606165Z",
     "start_time": "2024-12-01T15:12:28.553594Z"
    }
   },
   "cell_type": "code",
   "source": [
    "input_sequence = input_sequences()\n",
    "output_neuron = LIFNeuron()\n",
    "stdp = STDP(num_inputs, 1)\n",
    "# 初始化 定义输出神经元为1\n",
    "\n",
    "output_spikes = np.zeros(time_steps)\n",
    "# 记录输出神经元是否发送脉冲\n",
    "\n",
    "weights_over_step = np.zeros((time_steps, num_inputs))\n",
    "# 记录每个时间步的权重 行表示时间步 列表示输入神经元的权重\n",
    "\n",
    "V_membrane = np.zeros(time_steps)\n",
    "# 记录输出神经元在买个时间步的膜电位变化\n",
    "\n",
    "for t in range(time_steps):\n",
    "    input_spikes = input_sequence[t]\n",
    "    I_syn = np.dot(stdp.w.T, input_spikes)[0] * 5.0\n",
    "    # 计算突触电流 用权重和输入神经元的脉冲进行点积 再用放大系数增强信号输入的强度\n",
    "\n",
    "    output_neuron.update(I_syn)\n",
    "    # 更新输出神经元状态\n",
    "\n",
    "    output_spikes[t] = output_neuron.spike\n",
    "    V_membrane[t] = output_neuron.V\n",
    "    # 记录当前时间步是否发放脉冲和膜电位\n",
    "\n",
    "    stdp.update_weights(input_spikes, np.array([output_neuron.spike]))\n",
    "    # 更新突触权重\n",
    "\n",
    "    weights_over_step[t] = stdp.w[:, 0]\n",
    "    # 记录当前时间步的权重\n",
    "\n",
    "output_spike_times = np.where(output_spikes == 1)[0] * dt\n",
    "# 找出所有时间步中 输出神经元发送脉冲的时间点\n",
    "\n",
    "print(\"神经元发送脉冲的时间点: \", output_spike_times)\n",
    "print(\"最终突触权重: \", stdp.w.flatten())"
   ],
   "id": "e26844f27443e77e",
   "outputs": [
    {
     "name": "stdout",
     "output_type": "stream",
     "text": [
      "神经元发送脉冲的时间点:  [ 10.  30.  50.  60.  80. 100. 120. 140. 160. 180. 200. 220. 240. 260.\n",
      " 280. 300. 320. 340. 360. 380. 400. 420. 440. 460. 480. 500. 520. 540.\n",
      " 560. 580. 600. 620. 640. 660. 680. 700. 710. 730. 750. 770. 790. 810.\n",
      " 830. 850. 870. 890. 910. 930. 950. 970. 990.]\n",
      "最终突触权重:  [0.98508063 0.98705937 0.96255351 0.93748825 0.84595857]\n"
     ]
    }
   ],
   "execution_count": 6
  },
  {
   "metadata": {
    "jupyter": {
     "is_executing": true
    }
   },
   "cell_type": "code",
   "source": [
    "plt.figure(figsize=(10, 8))\n",
    "\n",
    "plt.subplot(4, 1, 1)\n",
    "for i in range(num_inputs):\n",
    "    spike_times = np.where(input_sequence[:, i] == 1)[0] * dt\n",
    "    plt.scatter(spike_times, np.full_like(spike_times, i), marker='|', color='black')\n",
    "plt.title('Input Spike Train')\n",
    "plt.ylabel('Input Neuron Index')\n",
    "plt.xlim(0, simulation_time)\n",
    "\n",
    "plt.subplot(4, 1, 2)\n",
    "plt.plot(np.arange(time_steps) * dt, V_membrane, label='Membrane Potential')\n",
    "plt.plot(np.arange(time_steps) * dt, np.full(time_steps, V_th), 'r--', label='Threshold')\n",
    "plt.title('Output Neuron Membrane Potential')\n",
    "plt.ylabel('Membrane Potential (V)')\n",
    "plt.xlim(0, simulation_time)\n",
    "plt.legend()\n",
    "\n",
    "plt.subplot(4, 1, 3)\n",
    "spike_times = np.where(output_spikes == 1)[0] * dt\n",
    "plt.scatter(spike_times, np.zeros_like(spike_times), marker='|', color='red')\n",
    "plt.title('Output Spike Train')\n",
    "plt.ylabel('Output Neuron')\n",
    "plt.xlim(0, simulation_time)\n",
    "\n",
    "plt.subplot(4, 1, 4)\n",
    "for i in range(num_inputs):\n",
    "    plt.plot(np.arange(time_steps) * dt, weights_over_step[:, i], label=f'Weight {i}')\n",
    "plt.title('Synaptic Weights Over Time')\n",
    "plt.xlabel('Time (ms)')\n",
    "plt.ylabel('Weight')\n",
    "plt.legend()\n",
    "plt.xlim(0, simulation_time)\n",
    "\n",
    "plt.tight_layout()\n",
    "plt.show()"
   ],
   "id": "77491705470a26ec",
   "outputs": [],
   "execution_count": null
  },
  {
   "metadata": {},
   "cell_type": "code",
   "outputs": [],
   "execution_count": null,
   "source": "",
   "id": "850de2a3af089e87"
  }
 ],
 "metadata": {
  "kernelspec": {
   "display_name": "Python 3",
   "language": "python",
   "name": "python3"
  },
  "language_info": {
   "codemirror_mode": {
    "name": "ipython",
    "version": 2
   },
   "file_extension": ".py",
   "mimetype": "text/x-python",
   "name": "python",
   "nbconvert_exporter": "python",
   "pygments_lexer": "ipython2",
   "version": "2.7.6"
  }
 },
 "nbformat": 4,
 "nbformat_minor": 5
}
