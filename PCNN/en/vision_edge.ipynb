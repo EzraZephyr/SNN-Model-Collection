{
 "cells": [
  {
   "cell_type": "code",
   "id": "initial_id",
   "metadata": {
    "collapsed": true,
    "ExecuteTime": {
     "end_time": "2024-12-26T09:20:09.449550Z",
     "start_time": "2024-12-26T09:20:09.436350Z"
    }
   },
   "source": [
    "import numpy as np\n",
    "import matplotlib.pyplot as plt\n",
    "from scipy.signal import convolve2d\n",
    "from torchvision import datasets"
   ],
   "outputs": [],
   "execution_count": 16
  },
  {
   "metadata": {
    "ExecuteTime": {
     "end_time": "2024-12-26T09:20:09.613680Z",
     "start_time": "2024-12-26T09:20:09.592232Z"
    }
   },
   "cell_type": "code",
   "source": [
    "test_data = datasets.MNIST(\"../../LIF/LIF_MNIST/data\", train=False, download=False)\n",
    "test_image, _ = test_data[0]\n",
    "# Extract the first image from the MNIST dataset for testing\n",
    "\n",
    "time_steps = 20\n",
    "\n",
    "alpha_F = 0.9\n",
    "alpha_L = 0.9\n",
    "alpha_theta = 0.9\n",
    "# Set decay coefficients\n",
    "\n",
    "V_F = 1.0\n",
    "V_L = 1.0\n",
    "V_theta = 20.0\n",
    "# Set coupling strength and threshold increment\n",
    "\n",
    "beta = 0.2\n",
    "# Set the weight of the coupling module's influence on the membrane potential\n",
    "\n",
    "S = np.array(test_image).astype(np.float32)\n",
    "image_H, image_W = S.shape\n",
    "\n",
    "F = np.zeros((image_H, image_W), dtype=np.float32)\n",
    "L = np.zeros((image_H, image_W), dtype=np.float32)\n",
    "Y = np.zeros((image_H, image_W), dtype=np.float32)\n",
    "V_th = np.ones((image_H, image_W), dtype=np.float32)\n",
    "# Initialize values\n",
    "\n",
    "W_kernel = np.ones((3, 3))\n",
    "W_kernel /= np.sum(W_kernel)\n",
    "# Calculate the neighborhood coupling effect using mean kernel\n",
    "\n",
    "time_spikes = []"
   ],
   "id": "eea099b95dbe10c6",
   "outputs": [],
   "execution_count": 17
  },
  {
   "metadata": {
    "ExecuteTime": {
     "end_time": "2024-12-26T09:20:09.794567Z",
     "start_time": "2024-12-26T09:20:09.774549Z"
    }
   },
   "cell_type": "code",
   "source": [
    "for n in range(1, time_steps):\n",
    "\n",
    "    neighbor_effect = convolve2d(Y, W_kernel, mode='same', boundary = 'symm')\n",
    "    # Use convolution operation to compute the coupling effect of the neighborhood\n",
    "\n",
    "    F = np.exp(-alpha_F) * F + S + V_F * neighbor_effect\n",
    "    # Input module\n",
    "\n",
    "    L = np.exp(-alpha_L) + V_L * neighbor_effect\n",
    "    # Coupling module\n",
    "\n",
    "    V = F * (1 + beta * L)\n",
    "    # Membrane potential\n",
    "\n",
    "    V_th = np.exp(-alpha_theta) * V_th + V_theta * Y\n",
    "    # Dynamic threshold\n",
    "\n",
    "    Y = (V > V_th).astype(np.float32)\n",
    "    # Record pulse output\n",
    "\n",
    "    time_spikes.append(Y.copy())\n",
    "    # Store a copy in the pulse record to prevent it from being updated to the last state"
   ],
   "id": "47c39b9b607061e2",
   "outputs": [],
   "execution_count": 18
  },
  {
   "metadata": {
    "ExecuteTime": {
     "end_time": "2024-12-26T09:20:10.421988Z",
     "start_time": "2024-12-26T09:20:10.244473Z"
    }
   },
   "cell_type": "code",
   "source": [
    "plt.figure(figsize=(10, 6))\n",
    "plt.subplot(1, 3, 1)\n",
    "plt.title(\"Input Image\")\n",
    "plt.imshow(test_image, cmap=\"gray\")\n",
    "plt.axis(\"off\")\n",
    "\n",
    "plt.subplot(1, 3, 2)\n",
    "plt.title(\"PCNN Neuron Simulation Step 1\")\n",
    "plt.imshow(time_spikes[0], cmap=\"hot\")\n",
    "plt.axis(\"off\")\n",
    "\n",
    "plt.subplot(1, 3, 3)\n",
    "plt.title(f\"PCNN Neuron Simulation Step Last\")\n",
    "plt.imshow(time_spikes[18], cmap = \"hot\")\n",
    "plt.axis(\"off\")\n",
    "\n",
    "plt.tight_layout()\n",
    "plt.show()"
   ],
   "id": "a4a552f3ea08ac87",
   "outputs": [
    {
     "data": {
      "text/plain": [
       "<Figure size 1000x600 with 3 Axes>"
      ],
      "image/png": "[encoded data removed]"
     },
     "metadata": {},
     "output_type": "display_data"
    }
   ],
   "execution_count": 19
  },
  {
   "metadata": {},
   "cell_type": "code",
   "outputs": [],
   "execution_count": null,
   "source": "",
   "id": "9c497998cc2a8266"
  }
 ],
 "metadata": {
  "kernelspec": {
   "display_name": "Python 3",
   "language": "python",
   "name": "python3"
  },
  "language_info": {
   "codemirror_mode": {
    "name": "ipython",
    "version": 2
   },
   "file_extension": ".py",
   "mimetype": "text/x-python",
   "name": "python",
   "nbconvert_exporter": "python",
   "pygments_lexer": "ipython2",
   "version": "2.7.6"
  }
 },
 "nbformat": 4,
 "nbformat_minor": 5
}
